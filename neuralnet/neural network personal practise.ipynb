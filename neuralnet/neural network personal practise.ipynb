{
 "cells": [
  {
   "cell_type": "markdown",
   "id": "85da5d14-70fe-4b5e-b6a6-5bea06bb6976",
   "metadata": {},
   "source": [
    "# neural network practice 1"
   ]
  },
  {
   "cell_type": "code",
   "execution_count": 1,
   "id": "e45cc349-5cb6-423e-8b90-40fef5186202",
   "metadata": {},
   "outputs": [
    {
     "name": "stderr",
     "output_type": "stream",
     "text": [
      "/usr/lib/python3/dist-packages/pytz/__init__.py:31: SyntaxWarning: invalid escape sequence '\\s'\n",
      "  match = re.match(\"^#\\s*version\\s*([0-9a-z]*)\\s*$\", line)\n"
     ]
    }
   ],
   "source": [
    "# importing packages \n",
    "import numpy as np\n",
    "import pandas as pd\n",
    "import matplotlib.pyplot as plt\n",
    "from sklearn.model_selection import train_test_split\n",
    "from sklearn.preprocessing import normalize\n",
    "from sklearn.datasets import load_iris\n",
    "import time"
   ]
  },
  {
   "cell_type": "code",
   "execution_count": 2,
   "id": "a0b8f0ea-b989-4370-a4b8-07b9a6f720d6",
   "metadata": {},
   "outputs": [],
   "source": [
    "# default seed \n",
    "seed = 42"
   ]
  },
  {
   "cell_type": "code",
   "execution_count": null,
   "id": "24df85a9-4058-4d9c-92cb-5957c874b8a9",
   "metadata": {},
   "outputs": [],
   "source": [
    "# good refresher \n",
    "# https://medium.com/@waadlingaadil/learn-to-build-a-neural-network-from-scratch-yes-really-cac4ca457efc"
   ]
  },
  {
   "cell_type": "markdown",
   "id": "e8ec165a-ba37-4234-a70f-f20e1273c71f",
   "metadata": {},
   "source": [
    "### what did you do wrong last time you made a neural network? \n",
    "- i had a model that fit remarkably well on my data.\n",
    "- however, i did NOT test on other samples of the data to see if this would continue to hold true. \n",
    "- **my data was unique in the sense that absurdly high learning rates did very well on the training data.** in practise, you are generally not supposed to use annoyingly high learning rates. should've thought about the testing data not acclimating well to the high learning rate!  "
   ]
  },
  {
   "cell_type": "markdown",
   "id": "846c8891-7153-44b3-bf10-5dd78d07e3cc",
   "metadata": {},
   "source": [
    "### what did the best models in my class do? \n",
    "- lower learning rates but not so low that the model 'moves' incredibly slowly. this is so the models wouldn't overfit on the training data (therefore making it unpalatable for the test data). \n",
    "- not an absurd number of epochs "
   ]
  }
 ],
 "metadata": {
  "kernelspec": {
   "display_name": "Python 3 (ipykernel)",
   "language": "python",
   "name": "python3"
  },
  "language_info": {
   "codemirror_mode": {
    "name": "ipython",
    "version": 3
   },
   "file_extension": ".py",
   "mimetype": "text/x-python",
   "name": "python",
   "nbconvert_exporter": "python",
   "pygments_lexer": "ipython3",
   "version": "3.12.7"
  }
 },
 "nbformat": 4,
 "nbformat_minor": 5
}
